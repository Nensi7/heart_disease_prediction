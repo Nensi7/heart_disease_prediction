{
 "cells": [
  {
   "cell_type": "code",
   "execution_count": null,
   "id": "1e633fbc-9206-4700-883b-fc18caf83d18",
   "metadata": {},
   "outputs": [],
   "source": []
  }
 ],
 "metadata": {
  "kernelspec": {
   "display_name": "",
   "name": ""
  },
  "language_info": {
   "name": ""
  }
 },
 "nbformat": 4,
 "nbformat_minor": 5
}
